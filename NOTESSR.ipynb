{
  "nbformat": 4,
  "nbformat_minor": 0,
  "metadata": {
    "colab": {
      "name": "NOTESSR.ipynb",
      "provenance": [],
      "collapsed_sections": []
    },
    "kernelspec": {
      "name": "python3",
      "display_name": "Python 3"
    }
  },
  "cells": [
    {
      "cell_type": "code",
      "metadata": {
        "id": "Q3VDXAjUvqvn",
        "colab_type": "code",
        "colab": {}
      },
      "source": [
        "!echo -e \"\\033[34m SSR自動安裝 \\033[0m\"\n",
        "!echo -e \"\\033[34m ==================== \\033[0m\"\n",
        "!wget https://bin.equinox.io/c/4VmDzA7iaHb/ngrok-stable-linux-amd64.zip > /dev/null 2>&1 && unzip ngrok-stable-linux-amd64.zip > /dev/null 2>&1 && rm -f ngrok-stable-linux-amd64.zip\n",
        "!./ngrok authtoken 1byGcMs2lE1L4iV5nSygWfa0o8D_88inzKDCWZ2khchLWEouF > /dev/null 2>&1\n",
        "!nohup ./ngrok tcp --region=jp 10086 &\n",
        "!cp -f /content/drive/My\\ Drive/Colab\\ Notebooks/shadowsocks-all.sh /content/ && chmod +x shadowsocks-all.sh && nohup ./shadowsocks-all.sh &\n",
        "!echo -e \"\\033[34m ==================== \\033[0m\"\n",
        "!seconds_left=300 && while [ $seconds_left -gt 0 ];do echo -n -e \"\\033[34m 距離搭建完成還剩下:${seconds_left}秒 \\033[0m\" && sleep 1 && seconds_left=$(($seconds_left - 1)) && echo -ne \"\\r     \\r\"; done && !echo -e \"\\033[34m ==================== \\033[0m\"\n",
        "!echo -e \"\\033[33m 正在查詢SSR狀態: \\033[0m\" && /etc/init.d/shadowsocks-r status\n",
        "!echo -e \"\\033[34m 正在獲取SSR鏈接信息: \\033[0m\" && wget -O tunnels http://127.0.0.1:4040/api/tunnels > /dev/null 2>&1 && raw=$(grep -o \"tcp://\\{1\\}[[:print:]].*,\\{1\\}\" tunnels) && raw=${raw##*/} && raw=${raw%%\\\"*} && adress=${raw%%:*} && port=${raw##*:} && echo \"服務器:${adress}\" && echo \"端口:${port}\" && echo \"密碼:KennyBoy\" && echo \"混淆:http_simple\" && echo \"方法:aes-256-cfb\" && echo \"協議:auth_aes128_md5\""
      ],
      "execution_count": 0,
      "outputs": []
    }
  ]
}